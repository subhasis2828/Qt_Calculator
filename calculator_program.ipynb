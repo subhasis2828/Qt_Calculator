{
 "cells": [
  {
   "cell_type": "code",
   "execution_count": 1,
   "metadata": {},
   "outputs": [],
   "source": [
    "from PyQt5 import QtWidgets, uic"
   ]
  },
  {
   "cell_type": "code",
   "execution_count": 2,
   "metadata": {},
   "outputs": [],
   "source": [
    "class calculator:\n",
    "    \n",
    "    num1 = 0\n",
    "    res  = 0\n",
    "    op   = None\n",
    "    \n",
    "    def __init__(self,ui):\n",
    "        self.ui = ui\n",
    "        self.ui.show()\n",
    "        \n",
    "        \n",
    "    def zeroClick(self):\n",
    "        self.num1 = self.ui.lcdNumber.value() * 10 + 0\n",
    "        self.ui.lcdNumber.display(self.num1)\n",
    "        \n",
    "    def oneClick(self):\n",
    "        self.num1 = self.ui.lcdNumber.value() * 10 + 1\n",
    "        self.ui.lcdNumber.display(self.num1)\n",
    "        \n",
    "    def twoClick(self):\n",
    "        self.num1 = self.ui.lcdNumber.value() * 10 + 2\n",
    "        self.ui.lcdNumber.display(self.num1)\n",
    "\n",
    "    def threeClick(self):\n",
    "        self.num1 = self.ui.lcdNumber.value() * 10 + 3\n",
    "        self.ui.lcdNumber.display(self.num1)\n",
    "\n",
    "    def fourClick(self):\n",
    "        self.num1 = self.ui.lcdNumber.value() * 10 + 4\n",
    "        self.ui.lcdNumber.display(self.num1)\n",
    "    \n",
    "    def fiveClick(self):\n",
    "        self.num1 = self.ui.lcdNumber.value() * 10 + 5\n",
    "        self.ui.lcdNumber.display(self.num1)\n",
    "    \n",
    "    def sixClick(self):\n",
    "        self.num1 = self.ui.lcdNumber.value() * 10 + 6\n",
    "        self.ui.lcdNumber.display(self.num1)\n",
    "\n",
    "    def sevenClick(self):\n",
    "        self.num1 = self.ui.lcdNumber.value() * 10 + 7\n",
    "        self.ui.lcdNumber.display(self.num1)\n",
    "\n",
    "    def eightClick(self):\n",
    "        self.num1 = self.ui.lcdNumber.value() * 10 + 8\n",
    "        self.ui.lcdNumber.display(self.num1)\n",
    "    \n",
    "    def nineClick(self):\n",
    "        self.num1 = self.ui.lcdNumber.value() * 10 + 9\n",
    "        self.ui.lcdNumber.display(self.num1)\n",
    "        \n",
    "    def plusClick(self):\n",
    "        self.op = 'add'\n",
    "        self.res = self.res+self.ui.lcdNumber.value()\n",
    "        self.ui.lcdNumber.display(0)\n",
    "    def minusClick(self):\n",
    "        self.op = 'minus'\n",
    "        self.res = self.ui.lcdNumber.value()-self.res\n",
    "        self.ui.lcdNumber.display(0)\n",
    "    def multiplyClick(self):\n",
    "        self.op = 'multiply'\n",
    "        self.res = (self.res+1)*self.ui.lcdNumber.value()\n",
    "        self.ui.lcdNumber.display(0)\n",
    "    def divideClick(self):\n",
    "        self.op = 'divide'\n",
    "        self.res=1\n",
    "        self.res = float(self.ui.lcdNumber.value()/(self.res))\n",
    "        self.ui.lcdNumber.display(0)\n",
    "        \n",
    "    def equalClick(self):\n",
    "        if self.op==None:\n",
    "            pass\n",
    "        elif self.op=='add':\n",
    "            self.res = self.res+self.ui.lcdNumber.value()\n",
    "            self.ui.lcdNumber.display(self.res)\n",
    "        elif self.op=='minus':\n",
    "            self.res = self.ui.lcdNumber.value()-self.res\n",
    "            self.ui.lcdNumber.display(-(self.res))\n",
    "        elif self.op=='multiply':\n",
    "            self.res = (self.res)*self.ui.lcdNumber.value()\n",
    "            self.ui.lcdNumber.display(self.res)\n",
    "        elif self.op=='divide':\n",
    "            self.res = float(self.ui.lcdNumber.value()/(self.res))\n",
    "            self.ui.lcdNumber.display(self.res)"
   ]
  },
  {
   "cell_type": "code",
   "execution_count": 3,
   "metadata": {},
   "outputs": [
    {
     "data": {
      "text/plain": [
       "0"
      ]
     },
     "execution_count": 3,
     "metadata": {},
     "output_type": "execute_result"
    }
   ],
   "source": [
    "app = QtWidgets.QApplication([])\n",
    "\n",
    "ui = uic.loadUi('calculator.ui')\n",
    "\n",
    "c = calculator(ui)\n",
    "\n",
    "c.ui.zero.clicked.connect(c.zeroClick)\n",
    "c.ui.one.clicked.connect(c.oneClick)\n",
    "c.ui.two.clicked.connect(c.twoClick)\n",
    "c.ui.three.clicked.connect(c.threeClick)\n",
    "c.ui.four.clicked.connect(c.fourClick)\n",
    "c.ui.five.clicked.connect(c.fiveClick)\n",
    "c.ui.six.clicked.connect(c.sixClick)\n",
    "c.ui.seven.clicked.connect(c.sevenClick)\n",
    "c.ui.eight.clicked.connect(c.eightClick)\n",
    "c.ui.nine.clicked.connect(c.nineClick)\n",
    "c.ui.plus.clicked.connect(c.plusClick)\n",
    "c.ui.minus.clicked.connect(c.minusClick)\n",
    "c.ui.multiply.clicked.connect(c.multiplyClick)\n",
    "c.ui.divide.clicked.connect(c.divideClick)\n",
    "\n",
    "\n",
    "c.ui.equal.clicked.connect(c.equalClick)\n",
    "app.exec()"
   ]
  },
  {
   "cell_type": "code",
   "execution_count": null,
   "metadata": {},
   "outputs": [],
   "source": []
  }
 ],
 "metadata": {
  "kernelspec": {
   "display_name": "Python 3",
   "language": "python",
   "name": "python3"
  },
  "language_info": {
   "codemirror_mode": {
    "name": "ipython",
    "version": 3
   },
   "file_extension": ".py",
   "mimetype": "text/x-python",
   "name": "python",
   "nbconvert_exporter": "python",
   "pygments_lexer": "ipython3",
   "version": "3.6.4"
  }
 },
 "nbformat": 4,
 "nbformat_minor": 5
}
